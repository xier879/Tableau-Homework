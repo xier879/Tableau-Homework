{
 "cells": [
  {
   "cell_type": "code",
   "execution_count": null,
   "metadata": {},
   "outputs": [],
   "source": [
    "# Dependencies and Setup\n",
    "import pandas as pd\n",
    "import numpy as np\n",
    "\n",
    "# File to Load (Remember to Change These)"
   ]
  },
  {
   "cell_type": "code",
   "execution_count": null,
   "metadata": {},
   "outputs": [],
   "source": [
    "#read csv files in a loop \n",
    "#df_list = []\n",
    "#for i in range(1, 13):\n",
    "    #df_reload = pd.read_csv(f'JC-20190{i}-citibike-tripdata.csv')\n",
    "    #df_list.append(df_reload)\n",
    "#new_df = pd.concat(df_list)"
   ]
  },
  {
   "cell_type": "code",
   "execution_count": 3,
   "metadata": {},
   "outputs": [],
   "source": [
    "#alternate way: read csv file in a loop\n",
    "file_name = 'JC-20190{}-citibike-tripdata.csv'\n",
    "df_list = []\n",
    "for i in range(1, 13):\n",
    "    df_reload = pd.read_csv(file_name.format(i))\n",
    "    df_list.append(df_reload)\n",
    "\n",
    "new_df = pd.concat(df_list)"
   ]
  },
  {
   "cell_type": "code",
   "execution_count": 4,
   "metadata": {},
   "outputs": [
    {
     "data": {
      "text/html": [
       "<div>\n",
       "<style scoped>\n",
       "    .dataframe tbody tr th:only-of-type {\n",
       "        vertical-align: middle;\n",
       "    }\n",
       "\n",
       "    .dataframe tbody tr th {\n",
       "        vertical-align: top;\n",
       "    }\n",
       "\n",
       "    .dataframe thead th {\n",
       "        text-align: right;\n",
       "    }\n",
       "</style>\n",
       "<table border=\"1\" class=\"dataframe\">\n",
       "  <thead>\n",
       "    <tr style=\"text-align: right;\">\n",
       "      <th></th>\n",
       "      <th>tripduration</th>\n",
       "      <th>starttime</th>\n",
       "      <th>stoptime</th>\n",
       "      <th>start station id</th>\n",
       "      <th>start station name</th>\n",
       "      <th>start station latitude</th>\n",
       "      <th>start station longitude</th>\n",
       "      <th>end station id</th>\n",
       "      <th>end station name</th>\n",
       "      <th>end station latitude</th>\n",
       "      <th>end station longitude</th>\n",
       "      <th>bikeid</th>\n",
       "      <th>usertype</th>\n",
       "      <th>birth year</th>\n",
       "      <th>gender</th>\n",
       "    </tr>\n",
       "  </thead>\n",
       "  <tbody>\n",
       "    <tr>\n",
       "      <td>19723</td>\n",
       "      <td>283</td>\n",
       "      <td>2019-12-31 23:12:18.5480</td>\n",
       "      <td>2019-12-31 23:17:01.8740</td>\n",
       "      <td>3195</td>\n",
       "      <td>Sip Ave</td>\n",
       "      <td>40.730897</td>\n",
       "      <td>-74.063913</td>\n",
       "      <td>3679</td>\n",
       "      <td>Bergen Ave</td>\n",
       "      <td>40.722104</td>\n",
       "      <td>-74.071455</td>\n",
       "      <td>29245</td>\n",
       "      <td>Customer</td>\n",
       "      <td>1990</td>\n",
       "      <td>1</td>\n",
       "    </tr>\n",
       "    <tr>\n",
       "      <td>19724</td>\n",
       "      <td>267</td>\n",
       "      <td>2019-12-31 23:19:03.5840</td>\n",
       "      <td>2019-12-31 23:23:30.6640</td>\n",
       "      <td>3186</td>\n",
       "      <td>Grove St PATH</td>\n",
       "      <td>40.719586</td>\n",
       "      <td>-74.043117</td>\n",
       "      <td>3205</td>\n",
       "      <td>JC Medical Center</td>\n",
       "      <td>40.716540</td>\n",
       "      <td>-74.049638</td>\n",
       "      <td>26153</td>\n",
       "      <td>Subscriber</td>\n",
       "      <td>1989</td>\n",
       "      <td>1</td>\n",
       "    </tr>\n",
       "    <tr>\n",
       "      <td>19725</td>\n",
       "      <td>379</td>\n",
       "      <td>2019-12-31 23:19:06.5830</td>\n",
       "      <td>2019-12-31 23:25:25.7970</td>\n",
       "      <td>3209</td>\n",
       "      <td>Brunswick St</td>\n",
       "      <td>40.724176</td>\n",
       "      <td>-74.050656</td>\n",
       "      <td>3185</td>\n",
       "      <td>City Hall</td>\n",
       "      <td>40.717733</td>\n",
       "      <td>-74.043845</td>\n",
       "      <td>26276</td>\n",
       "      <td>Subscriber</td>\n",
       "      <td>1984</td>\n",
       "      <td>1</td>\n",
       "    </tr>\n",
       "    <tr>\n",
       "      <td>19726</td>\n",
       "      <td>188</td>\n",
       "      <td>2019-12-31 23:24:00.2630</td>\n",
       "      <td>2019-12-31 23:27:09.0400</td>\n",
       "      <td>3639</td>\n",
       "      <td>Harborside</td>\n",
       "      <td>40.719252</td>\n",
       "      <td>-74.034234</td>\n",
       "      <td>3186</td>\n",
       "      <td>Grove St PATH</td>\n",
       "      <td>40.719586</td>\n",
       "      <td>-74.043117</td>\n",
       "      <td>29461</td>\n",
       "      <td>Subscriber</td>\n",
       "      <td>1987</td>\n",
       "      <td>1</td>\n",
       "    </tr>\n",
       "    <tr>\n",
       "      <td>19727</td>\n",
       "      <td>326</td>\n",
       "      <td>2019-12-31 23:45:20.9780</td>\n",
       "      <td>2019-12-31 23:50:47.7490</td>\n",
       "      <td>3195</td>\n",
       "      <td>Sip Ave</td>\n",
       "      <td>40.730897</td>\n",
       "      <td>-74.063913</td>\n",
       "      <td>3280</td>\n",
       "      <td>Astor Place</td>\n",
       "      <td>40.719282</td>\n",
       "      <td>-74.071262</td>\n",
       "      <td>29123</td>\n",
       "      <td>Subscriber</td>\n",
       "      <td>1988</td>\n",
       "      <td>1</td>\n",
       "    </tr>\n",
       "  </tbody>\n",
       "</table>\n",
       "</div>"
      ],
      "text/plain": [
       "       tripduration                 starttime                  stoptime  \\\n",
       "19723           283  2019-12-31 23:12:18.5480  2019-12-31 23:17:01.8740   \n",
       "19724           267  2019-12-31 23:19:03.5840  2019-12-31 23:23:30.6640   \n",
       "19725           379  2019-12-31 23:19:06.5830  2019-12-31 23:25:25.7970   \n",
       "19726           188  2019-12-31 23:24:00.2630  2019-12-31 23:27:09.0400   \n",
       "19727           326  2019-12-31 23:45:20.9780  2019-12-31 23:50:47.7490   \n",
       "\n",
       "       start station id start station name  start station latitude  \\\n",
       "19723              3195            Sip Ave               40.730897   \n",
       "19724              3186      Grove St PATH               40.719586   \n",
       "19725              3209       Brunswick St               40.724176   \n",
       "19726              3639         Harborside               40.719252   \n",
       "19727              3195            Sip Ave               40.730897   \n",
       "\n",
       "       start station longitude  end station id   end station name  \\\n",
       "19723               -74.063913            3679         Bergen Ave   \n",
       "19724               -74.043117            3205  JC Medical Center   \n",
       "19725               -74.050656            3185          City Hall   \n",
       "19726               -74.034234            3186      Grove St PATH   \n",
       "19727               -74.063913            3280        Astor Place   \n",
       "\n",
       "       end station latitude  end station longitude  bikeid    usertype  \\\n",
       "19723             40.722104             -74.071455   29245    Customer   \n",
       "19724             40.716540             -74.049638   26153  Subscriber   \n",
       "19725             40.717733             -74.043845   26276  Subscriber   \n",
       "19726             40.719586             -74.043117   29461  Subscriber   \n",
       "19727             40.719282             -74.071262   29123  Subscriber   \n",
       "\n",
       "       birth year  gender  \n",
       "19723        1990       1  \n",
       "19724        1989       1  \n",
       "19725        1984       1  \n",
       "19726        1987       1  \n",
       "19727        1988       1  "
      ]
     },
     "execution_count": 4,
     "metadata": {},
     "output_type": "execute_result"
    }
   ],
   "source": [
    "new_df.tail()"
   ]
  },
  {
   "cell_type": "code",
   "execution_count": 5,
   "metadata": {},
   "outputs": [
    {
     "data": {
      "text/plain": [
       "404947"
      ]
     },
     "execution_count": 5,
     "metadata": {},
     "output_type": "execute_result"
    }
   ],
   "source": [
    "len(new_df['tripduration'])"
   ]
  },
  {
   "cell_type": "code",
   "execution_count": 6,
   "metadata": {},
   "outputs": [],
   "source": [
    "#save to csv file\n",
    "to_csv = new_df.to_csv('2019allyear-triphistory.csv', index = False)"
   ]
  },
  {
   "cell_type": "code",
   "execution_count": null,
   "metadata": {},
   "outputs": [],
   "source": []
  }
 ],
 "metadata": {
  "kernelspec": {
   "display_name": "Python 3",
   "language": "python",
   "name": "python3"
  },
  "language_info": {
   "codemirror_mode": {
    "name": "ipython",
    "version": 3
   },
   "file_extension": ".py",
   "mimetype": "text/x-python",
   "name": "python",
   "nbconvert_exporter": "python",
   "pygments_lexer": "ipython3",
   "version": "3.7.4"
  }
 },
 "nbformat": 4,
 "nbformat_minor": 2
}
